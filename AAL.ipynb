{
 "cells": [
  {
   "cell_type": "code",
   "execution_count": 9,
   "id": "4b1ec82c-a483-4435-bd04-23935bcb81bf",
   "metadata": {},
   "outputs": [
    {
     "name": "stdout",
     "output_type": "stream",
     "text": [
      "<class 'pandas.core.frame.DataFrame'>\n",
      "RangeIndex: 7560 entries, 0 to 7559\n",
      "Data columns (total 6 columns):\n",
      " #   Column  Non-Null Count  Dtype \n",
      "---  ------  --------------  ----- \n",
      " 0   Date    7560 non-null   object\n",
      " 1   Time    7560 non-null   object\n",
      " 2   State   7560 non-null   object\n",
      " 3   Group   7560 non-null   object\n",
      " 4   Unit    7560 non-null   int64 \n",
      " 5   Sales   7560 non-null   int64 \n",
      "dtypes: int64(2), object(4)\n",
      "memory usage: 354.5+ KB\n",
      "Missing values per column:\n",
      "Date     0\n",
      "Time     0\n",
      "State    0\n",
      "Group    0\n",
      "Unit     0\n",
      "Sales    0\n",
      "dtype: int64\n",
      "0      2020-10-01\n",
      "1      2020-10-01\n",
      "2      2020-10-01\n",
      "3      2020-10-01\n",
      "4      2020-10-01\n",
      "          ...    \n",
      "7555   2020-12-30\n",
      "7556   2020-12-30\n",
      "7557   2020-12-30\n",
      "7558   2020-12-30\n",
      "7559   2020-12-30\n",
      "Name: Date, Length: 7560, dtype: datetime64[ns]\n",
      "[' Morning' ' Afternoon' ' Evening']\n",
      "0         Morning\n",
      "1         Morning\n",
      "2         Morning\n",
      "3         Morning\n",
      "4       Afternoon\n",
      "          ...    \n",
      "7555    Afternoon\n",
      "7556      Evening\n",
      "7557      Evening\n",
      "7558      Evening\n",
      "7559      Evening\n",
      "Name: Time, Length: 7560, dtype: object\n"
     ]
    }
   ],
   "source": [
    "import pandas as pd\n",
    "\n",
    "# Load the CSV file into a DataFrame\n",
    "df = pd.read_csv('AusApparalSales4thQrt2020.csv')\n",
    "\n",
    "# Display a concise summary of the DataFrame\n",
    "df.info()\n",
    "\n",
    "# Count the number of missing values in each column\n",
    "missing_values = df.isnull().sum()\n",
    "print(\"Missing values per column:\")\n",
    "print(missing_values)\n",
    "# make the date values actual datetime for pandas\n",
    "df['Date'] = pd.to_datetime(df['Date'])\n",
    "print(df['Date']) #checking to see what it looks like\n",
    "# assignment requires analysis about the time of day for peak sales, so looking at what the data shows for this\n",
    "print(df['Time'].unique())\n",
    "df['Time'] = df['Time'].str.strip()# since the time data are strings get rid of spaces \n",
    "print(df['Time'])"
   ]
  },
  {
   "cell_type": "code",
   "execution_count": null,
   "id": "d4d5252d-abe6-412c-8d22-5909e73def74",
   "metadata": {},
   "outputs": [],
   "source": []
  },
  {
   "cell_type": "code",
   "execution_count": null,
   "id": "7cce7143-b0c4-44ff-bf39-b59ea7ef8fd6",
   "metadata": {},
   "outputs": [],
   "source": []
  },
  {
   "cell_type": "code",
   "execution_count": null,
   "id": "90b12f6a-9983-4fcb-992b-17e201eb0f90",
   "metadata": {},
   "outputs": [],
   "source": []
  }
 ],
 "metadata": {
  "kernelspec": {
   "display_name": "Python 3 (ipykernel)",
   "language": "python",
   "name": "python3"
  },
  "language_info": {
   "codemirror_mode": {
    "name": "ipython",
    "version": 3
   },
   "file_extension": ".py",
   "mimetype": "text/x-python",
   "name": "python",
   "nbconvert_exporter": "python",
   "pygments_lexer": "ipython3",
   "version": "3.11.5"
  }
 },
 "nbformat": 4,
 "nbformat_minor": 5
}
