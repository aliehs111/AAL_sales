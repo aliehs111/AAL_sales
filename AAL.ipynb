{
 "cells": [
  {
   "cell_type": "code",
   "execution_count": null,
   "id": "561ac375-1a7e-4973-a30f-b99612ce2764",
   "metadata": {},
   "outputs": [],
   "source": [
    "# Data Wrangling\n",
    "## Checking for missing values"
   ]
  },
  {
   "cell_type": "code",
   "execution_count": 2,
   "id": "4b1ec82c-a483-4435-bd04-23935bcb81bf",
   "metadata": {},
   "outputs": [
    {
     "name": "stdout",
     "output_type": "stream",
     "text": [
      "<class 'pandas.core.frame.DataFrame'>\n",
      "RangeIndex: 7560 entries, 0 to 7559\n",
      "Data columns (total 6 columns):\n",
      " #   Column  Non-Null Count  Dtype \n",
      "---  ------  --------------  ----- \n",
      " 0   Date    7560 non-null   object\n",
      " 1   Time    7560 non-null   object\n",
      " 2   State   7560 non-null   object\n",
      " 3   Group   7560 non-null   object\n",
      " 4   Unit    7560 non-null   int64 \n",
      " 5   Sales   7560 non-null   int64 \n",
      "dtypes: int64(2), object(4)\n",
      "memory usage: 354.5+ KB\n",
      "None\n",
      "Date     0\n",
      "Time     0\n",
      "State    0\n",
      "Group    0\n",
      "Unit     0\n",
      "Sales    0\n",
      "dtype: int64\n"
     ]
    }
   ],
   "source": [
    "import pandas as pd\n",
    "df = pd.read_csv('AusApparalSales4thQrt2020.csv')\n",
    "print(df.info())\n",
    "print(df.isna().sum())\n"
   ]
  },
  {
   "cell_type": "code",
   "execution_count": null,
   "id": "d4d5252d-abe6-412c-8d22-5909e73def74",
   "metadata": {},
   "outputs": [],
   "source": [
    "## The dataset has 7560 entries with 6 columns and no missing values.  Since there are no missing values, and I can see that the sales dollars ('Sales') and the unit quanties ('Unit') columns are datatype \"int64\" they are numeric and ready for calculations.<br> (I can move on to next step."
   ]
  },
  {
   "cell_type": "code",
   "execution_count": null,
   "id": "7cce7143-b0c4-44ff-bf39-b59ea7ef8fd6",
   "metadata": {},
   "outputs": [],
   "source": [
    "## Normalization"
   ]
  },
  {
   "cell_type": "code",
   "execution_count": null,
   "id": "90b12f6a-9983-4fcb-992b-17e201eb0f90",
   "metadata": {},
   "outputs": [],
   "source": [
    "### This will ensure that the values are in a consistent range for later comparisons.  First find the max and mins for the numeric data and add a new colun with that data."
   ]
  },
  {
   "cell_type": "code",
   "execution_count": 10,
   "id": "7d1575fd-174b-462b-a69b-acfbe339c215",
   "metadata": {},
   "outputs": [
    {
     "name": "stdout",
     "output_type": "stream",
     "text": [
      "   Sales  Sales_normalized  Unit  Unit_normalized\n",
      "0  20000          0.095238     8         0.095238\n",
      "1  20000          0.095238     8         0.095238\n",
      "2  10000          0.031746     4         0.031746\n",
      "3  37500          0.206349    15         0.206349\n",
      "4   7500          0.015873     3         0.015873\n"
     ]
    }
   ],
   "source": [
    "sales_min = df['Sales'].min()\n",
    "sales_max = df['Sales'].max()\n",
    "df['Sales_normalized'] = (df['Sales'] - sales_min) / (sales_max - sales_min)\n",
    "unit_min = df['Unit'].min()\n",
    "unit_max = df['Unit'].max()\n",
    "df['Unit_normalized'] = (df['Unit'] - unit_min) / (unit_max - unit_min)\n",
    "print(df[['Sales', 'Sales_normalized', 'Unit', 'Unit_normalized']].head()) # test to see if that worked properly to see the original data next to the normalized data                        \n",
    "                         "
   ]
  },
  {
   "cell_type": "code",
   "execution_count": null,
   "id": "53805cb2-863a-4ffa-b31e-f82feb28a91e",
   "metadata": {},
   "outputs": [],
   "source": [
    "# Data Analysis"
   ]
  },
  {
   "cell_type": "code",
   "execution_count": null,
   "id": "87906107-e669-490b-926a-69d5ec22d6f1",
   "metadata": {},
   "outputs": [],
   "source": [
    "## Understand the distribution of the sales and unit data as they pertain to other factors such as location and demographics to see which categories are perfoming best and worst "
   ]
  },
  {
   "cell_type": "code",
   "execution_count": 11,
   "id": "e62fe260-71fc-49fb-a02f-7538cf137342",
   "metadata": {},
   "outputs": [
    {
     "data": {
      "text/html": [
       "<div>\n",
       "<style scoped>\n",
       "    .dataframe tbody tr th:only-of-type {\n",
       "        vertical-align: middle;\n",
       "    }\n",
       "\n",
       "    .dataframe tbody tr th {\n",
       "        vertical-align: top;\n",
       "    }\n",
       "\n",
       "    .dataframe thead th {\n",
       "        text-align: right;\n",
       "    }\n",
       "</style>\n",
       "<table border=\"1\" class=\"dataframe\">\n",
       "  <thead>\n",
       "    <tr style=\"text-align: right;\">\n",
       "      <th></th>\n",
       "      <th>Unit</th>\n",
       "      <th>Sales</th>\n",
       "      <th>Sales_normalized</th>\n",
       "      <th>Unit_normalized</th>\n",
       "    </tr>\n",
       "  </thead>\n",
       "  <tbody>\n",
       "    <tr>\n",
       "      <th>count</th>\n",
       "      <td>7560.000000</td>\n",
       "      <td>7560.000000</td>\n",
       "      <td>7560.000000</td>\n",
       "      <td>7560.000000</td>\n",
       "    </tr>\n",
       "    <tr>\n",
       "      <th>mean</th>\n",
       "      <td>18.005423</td>\n",
       "      <td>45013.558201</td>\n",
       "      <td>0.254054</td>\n",
       "      <td>0.254054</td>\n",
       "    </tr>\n",
       "    <tr>\n",
       "      <th>std</th>\n",
       "      <td>12.901403</td>\n",
       "      <td>32253.506944</td>\n",
       "      <td>0.204784</td>\n",
       "      <td>0.204784</td>\n",
       "    </tr>\n",
       "    <tr>\n",
       "      <th>min</th>\n",
       "      <td>2.000000</td>\n",
       "      <td>5000.000000</td>\n",
       "      <td>0.000000</td>\n",
       "      <td>0.000000</td>\n",
       "    </tr>\n",
       "    <tr>\n",
       "      <th>25%</th>\n",
       "      <td>8.000000</td>\n",
       "      <td>20000.000000</td>\n",
       "      <td>0.095238</td>\n",
       "      <td>0.095238</td>\n",
       "    </tr>\n",
       "    <tr>\n",
       "      <th>50%</th>\n",
       "      <td>14.000000</td>\n",
       "      <td>35000.000000</td>\n",
       "      <td>0.190476</td>\n",
       "      <td>0.190476</td>\n",
       "    </tr>\n",
       "    <tr>\n",
       "      <th>75%</th>\n",
       "      <td>26.000000</td>\n",
       "      <td>65000.000000</td>\n",
       "      <td>0.380952</td>\n",
       "      <td>0.380952</td>\n",
       "    </tr>\n",
       "    <tr>\n",
       "      <th>max</th>\n",
       "      <td>65.000000</td>\n",
       "      <td>162500.000000</td>\n",
       "      <td>1.000000</td>\n",
       "      <td>1.000000</td>\n",
       "    </tr>\n",
       "  </tbody>\n",
       "</table>\n",
       "</div>"
      ],
      "text/plain": [
       "              Unit          Sales  Sales_normalized  Unit_normalized\n",
       "count  7560.000000    7560.000000       7560.000000      7560.000000\n",
       "mean     18.005423   45013.558201          0.254054         0.254054\n",
       "std      12.901403   32253.506944          0.204784         0.204784\n",
       "min       2.000000    5000.000000          0.000000         0.000000\n",
       "25%       8.000000   20000.000000          0.095238         0.095238\n",
       "50%      14.000000   35000.000000          0.190476         0.190476\n",
       "75%      26.000000   65000.000000          0.380952         0.380952\n",
       "max      65.000000  162500.000000          1.000000         1.000000"
      ]
     },
     "execution_count": 11,
     "metadata": {},
     "output_type": "execute_result"
    }
   ],
   "source": [
    "df.describe()"
   ]
  },
  {
   "cell_type": "code",
   "execution_count": 14,
   "id": "85b5a075-20be-4eb2-9692-683eb389c899",
   "metadata": {},
   "outputs": [
    {
     "name": "stdout",
     "output_type": "stream",
     "text": [
      "State\n",
      "NSW     74970000\n",
      "NT      22580000\n",
      "QLD     33417500\n",
      "SA      58857500\n",
      "TAS     22760000\n",
      "VIC    105565000\n",
      "WA      22152500\n",
      "Name: Sales, dtype: int64\n"
     ]
    }
   ],
   "source": [
    "state_sales = df.groupby('State')['Sales'].sum()\n",
    "print(state_sales)"
   ]
  },
  {
   "cell_type": "code",
   "execution_count": 15,
   "id": "afdfb3b8-1647-403c-8216-67bab0de6869",
   "metadata": {},
   "outputs": [],
   "source": [
    "## Output above shows that VIC clearly stands out as the best state for sales, followed by NSW that is doing 75% as well.  WA, TAS, and NT are lagging in comparison."
   ]
  },
  {
   "cell_type": "code",
   "execution_count": null,
   "id": "32acbf47-1f62-4edd-891a-9840bd06eff6",
   "metadata": {},
   "outputs": [],
   "source": [
    "## Weekly, Monthly and Quarterly Reports"
   ]
  },
  {
   "cell_type": "code",
   "execution_count": 16,
   "id": "fc19d600-39ab-42d0-b3a9-ac27e80dcdda",
   "metadata": {},
   "outputs": [],
   "source": [
    "### Since the .info() output shows that the date is an object and not in datetime, I need to convert it."
   ]
  },
  {
   "cell_type": "code",
   "execution_count": 20,
   "id": "f8e7700d-5e5b-4ba2-96ca-a2d3e2b9956f",
   "metadata": {},
   "outputs": [
    {
     "name": "stdout",
     "output_type": "stream",
     "text": [
      "        Date        Time State     Group  Unit  Sales  Sales_normalized  \\\n",
      "0 2020-10-01     Morning    WA      Kids     8  20000          0.095238   \n",
      "1 2020-10-01     Morning    WA       Men     8  20000          0.095238   \n",
      "2 2020-10-01     Morning    WA     Women     4  10000          0.031746   \n",
      "3 2020-10-01     Morning    WA   Seniors    15  37500          0.206349   \n",
      "4 2020-10-01   Afternoon    WA      Kids     3   7500          0.015873   \n",
      "5 2020-10-01   Afternoon    WA       Men    10  25000          0.126984   \n",
      "6 2020-10-01   Afternoon    WA     Women     3   7500          0.015873   \n",
      "7 2020-10-01   Afternoon    WA   Seniors    11  27500          0.142857   \n",
      "8 2020-10-01     Evening    WA      Kids    15  37500          0.206349   \n",
      "9 2020-10-01     Evening    WA       Men    15  37500          0.206349   \n",
      "\n",
      "   Unit_normalized  \n",
      "0         0.095238  \n",
      "1         0.095238  \n",
      "2         0.031746  \n",
      "3         0.206349  \n",
      "4         0.015873  \n",
      "5         0.126984  \n",
      "6         0.015873  \n",
      "7         0.142857  \n",
      "8         0.206349  \n",
      "9         0.206349  \n"
     ]
    }
   ],
   "source": [
    "df['Date'] = pd.to_datetime(df['Date'])\n",
    "print(df.head(10))"
   ]
  },
  {
   "cell_type": "code",
   "execution_count": null,
   "id": "f1ae36cd-1496-48e6-89e4-0db56a5ae99d",
   "metadata": {},
   "outputs": [],
   "source": [
    "### pandas documentation shows a few ways to generate the sales reports.<br>  This is the pd.Grouper which requires passing parameters for the key being the column name and the frequency W, M or Q then referencing the column, in this case Sales and getting the sum "
   ]
  },
  {
   "cell_type": "code",
   "execution_count": 22,
   "id": "4a146d12-5ce3-4118-960b-75449b6f85d1",
   "metadata": {},
   "outputs": [
    {
     "name": "stdout",
     "output_type": "stream",
     "text": [
      "Weekly Sales:\n",
      "Date\n",
      "2020-10-04    15045000\n",
      "2020-10-11    27002500\n",
      "2020-10-18    26640000\n",
      "2020-10-25    26815000\n",
      "2020-11-01    21807500\n",
      "2020-11-08    20865000\n",
      "2020-11-15    21172500\n",
      "2020-11-22    21112500\n",
      "2020-11-29    21477500\n",
      "2020-12-06    29622500\n",
      "2020-12-13    31525000\n",
      "2020-12-20    31655000\n",
      "2020-12-27    31770000\n",
      "2021-01-03    13792500\n",
      "Freq: W-SUN, Name: Sales, dtype: int64\n",
      "Monthly Sales:\n",
      "Date\n",
      "2020-10-31    114290000\n",
      "2020-11-30     90682500\n",
      "2020-12-31    135330000\n",
      "Freq: ME, Name: Sales, dtype: int64\n",
      "Quarterly Sales:\n",
      "Date\n",
      "2020-12-31    340302500\n",
      "Freq: QE-DEC, Name: Sales, dtype: int64\n"
     ]
    }
   ],
   "source": [
    "weekly_sales = df.groupby(pd.Grouper(key='Date', freq='W'))['Sales'].sum()\n",
    "monthly_sales = df.groupby(pd.Grouper(key='Date', freq='ME'))['Sales'].sum()\n",
    "quarterly_sales = df.groupby(pd.Grouper(key='Date', freq='QE'))['Sales'].sum()\n",
    "print(\"Weekly Sales:\")\n",
    "print(weekly_sales)\n",
    "print(\"Monthly Sales:\")\n",
    "print(monthly_sales)\n",
    "print(\"Quarterly Sales:\")\n",
    "print(quarterly_sales)"
   ]
  },
  {
   "cell_type": "code",
   "execution_count": null,
   "id": "4efc54a8-2ae4-4526-bc33-e93051c12be5",
   "metadata": {},
   "outputs": [],
   "source": [
    "# Data Visualization"
   ]
  },
  {
   "cell_type": "code",
   "execution_count": null,
   "id": "8a611604-b3a8-4f21-9271-d71a3d7eba5e",
   "metadata": {},
   "outputs": [],
   "source": [
    "## State-wise"
   ]
  },
  {
   "cell_type": "code",
   "execution_count": 28,
   "id": "3728d839-84d1-4f22-a407-9240845e0334",
   "metadata": {},
   "outputs": [
    {
     "data": {
      "image/png": "[encoded data removed]",
      "text/plain": [
       "<Figure size 640x480 with 1 Axes>"
      ]
     },
     "metadata": {},
     "output_type": "display_data"
    }
   ],
   "source": [
    "import matplotlib.pyplot as plt\n",
    "\n",
    "# group sales by state and total them\n",
    "state_sales = df.groupby('State')['Sales'].sum().reset_index()\n",
    "\n",
    "# take the state names and total the sales\n",
    "states = state_sales['State']\n",
    "sales_totals = state_sales['Sales']\n",
    "\n",
    "# defining the color for each bar to be blue\n",
    "bar_colors = ['tab:blue'] * len(states)\n",
    "\n",
    "# create the bar chart\n",
    "fig, ax = plt.subplots()\n",
    "ax.bar(states, sales_totals, color=bar_colors)\n",
    "\n",
    "# create the chart labels\n",
    "ax.set_ylabel('Total Sales')\n",
    "ax.set_title('Sales by State')\n",
    "# ax.legend(title='Fruit color')\n",
    "\n",
    "plt.show()\n"
   ]
  },
  {
   "cell_type": "code",
   "execution_count": null,
   "id": "4b9d46c1-eb58-4fb3-9279-71eb4744d39b",
   "metadata": {},
   "outputs": [],
   "source": []
  },
  {
   "cell_type": "code",
   "execution_count": null,
   "id": "9f0487c2-8ae6-4916-b510-09609b8cc4ee",
   "metadata": {},
   "outputs": [],
   "source": []
  }
 ],
 "metadata": {
  "kernelspec": {
   "display_name": "Python 3 (ipykernel)",
   "language": "python",
   "name": "python3"
  },
  "language_info": {
   "codemirror_mode": {
    "name": "ipython",
    "version": 3
   },
   "file_extension": ".py",
   "mimetype": "text/x-python",
   "name": "python",
   "nbconvert_exporter": "python",
   "pygments_lexer": "ipython3",
   "version": "3.11.5"
  }
 },
 "nbformat": 4,
 "nbformat_minor": 5
}
