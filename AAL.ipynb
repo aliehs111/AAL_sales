{
 "cells": [
  {
   "cell_type": "code",
   "execution_count": null,
   "id": "561ac375-1a7e-4973-a30f-b99612ce2764",
   "metadata": {},
   "outputs": [],
   "source": [
    "# Data Wrangling\n",
    "## Checking for missing values"
   ]
  },
  {
   "cell_type": "code",
   "execution_count": 2,
   "id": "4b1ec82c-a483-4435-bd04-23935bcb81bf",
   "metadata": {},
   "outputs": [
    {
     "name": "stdout",
     "output_type": "stream",
     "text": [
      "<class 'pandas.core.frame.DataFrame'>\n",
      "RangeIndex: 7560 entries, 0 to 7559\n",
      "Data columns (total 6 columns):\n",
      " #   Column  Non-Null Count  Dtype \n",
      "---  ------  --------------  ----- \n",
      " 0   Date    7560 non-null   object\n",
      " 1   Time    7560 non-null   object\n",
      " 2   State   7560 non-null   object\n",
      " 3   Group   7560 non-null   object\n",
      " 4   Unit    7560 non-null   int64 \n",
      " 5   Sales   7560 non-null   int64 \n",
      "dtypes: int64(2), object(4)\n",
      "memory usage: 354.5+ KB\n",
      "None\n",
      "Date     0\n",
      "Time     0\n",
      "State    0\n",
      "Group    0\n",
      "Unit     0\n",
      "Sales    0\n",
      "dtype: int64\n"
     ]
    }
   ],
   "source": [
    "import pandas as pd\n",
    "df = pd.read_csv('AusApparalSales4thQrt2020.csv')\n",
    "print(df.info())\n",
    "print(df.isna().sum())\n"
   ]
  },
  {
   "cell_type": "code",
   "execution_count": null,
   "id": "d4d5252d-abe6-412c-8d22-5909e73def74",
   "metadata": {},
   "outputs": [],
   "source": [
    "## The dataset has 7560 entries with 6 columns and no missing values.  Since there are no missing values, and I can see that the sales dollars ('Sales') and the unit quanties ('Unit') columns are datatype \"int64\" they are numeric and ready for calculations.<br> (I can move on to next step."
   ]
  },
  {
   "cell_type": "code",
   "execution_count": null,
   "id": "7cce7143-b0c4-44ff-bf39-b59ea7ef8fd6",
   "metadata": {},
   "outputs": [],
   "source": [
    "## Normalization"
   ]
  },
  {
   "cell_type": "code",
   "execution_count": null,
   "id": "90b12f6a-9983-4fcb-992b-17e201eb0f90",
   "metadata": {},
   "outputs": [],
   "source": [
    "### This will ensure that the values are in a consistent range for later comparisons.  First find the max and mins for the numeric data and add a new colun with that data."
   ]
  },
  {
   "cell_type": "code",
   "execution_count": 10,
   "id": "7d1575fd-174b-462b-a69b-acfbe339c215",
   "metadata": {},
   "outputs": [
    {
     "name": "stdout",
     "output_type": "stream",
     "text": [
      "   Sales  Sales_normalized  Unit  Unit_normalized\n",
      "0  20000          0.095238     8         0.095238\n",
      "1  20000          0.095238     8         0.095238\n",
      "2  10000          0.031746     4         0.031746\n",
      "3  37500          0.206349    15         0.206349\n",
      "4   7500          0.015873     3         0.015873\n"
     ]
    }
   ],
   "source": [
    "sales_min = df['Sales'].min()\n",
    "sales_max = df['Sales'].max()\n",
    "df['Sales_normalized'] = (df['Sales'] - sales_min) / (sales_max - sales_min)\n",
    "unit_min = df['Unit'].min()\n",
    "unit_max = df['Unit'].max()\n",
    "df['Unit_normalized'] = (df['Unit'] - unit_min) / (unit_max - unit_min)\n",
    "print(df[['Sales', 'Sales_normalized', 'Unit', 'Unit_normalized']].head()) # test to see if that worked properly to see the original data next to the normalized data                        \n",
    "                         "
   ]
  },
  {
   "cell_type": "code",
   "execution_count": null,
   "id": "53805cb2-863a-4ffa-b31e-f82feb28a91e",
   "metadata": {},
   "outputs": [],
   "source": []
  },
  {
   "cell_type": "code",
   "execution_count": null,
   "id": "87906107-e669-490b-926a-69d5ec22d6f1",
   "metadata": {},
   "outputs": [],
   "source": []
  }
 ],
 "metadata": {
  "kernelspec": {
   "display_name": "Python 3 (ipykernel)",
   "language": "python",
   "name": "python3"
  },
  "language_info": {
   "codemirror_mode": {
    "name": "ipython",
    "version": 3
   },
   "file_extension": ".py",
   "mimetype": "text/x-python",
   "name": "python",
   "nbconvert_exporter": "python",
   "pygments_lexer": "ipython3",
   "version": "3.11.5"
  }
 },
 "nbformat": 4,
 "nbformat_minor": 5
}
